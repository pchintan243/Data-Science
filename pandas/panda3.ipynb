{
 "cells": [
  {
   "cell_type": "code",
   "execution_count": 3,
   "id": "b17aac78",
   "metadata": {},
   "outputs": [
    {
     "data": {
      "text/html": [
       "<div>\n",
       "<style scoped>\n",
       "    .dataframe tbody tr th:only-of-type {\n",
       "        vertical-align: middle;\n",
       "    }\n",
       "\n",
       "    .dataframe tbody tr th {\n",
       "        vertical-align: top;\n",
       "    }\n",
       "\n",
       "    .dataframe thead th {\n",
       "        text-align: right;\n",
       "    }\n",
       "</style>\n",
       "<table border=\"1\" class=\"dataframe\">\n",
       "  <thead>\n",
       "    <tr style=\"text-align: right;\">\n",
       "      <th></th>\n",
       "      <th>tickers</th>\n",
       "      <th>eps</th>\n",
       "      <th>revenue</th>\n",
       "      <th>price</th>\n",
       "      <th>people</th>\n",
       "    </tr>\n",
       "  </thead>\n",
       "  <tbody>\n",
       "    <tr>\n",
       "      <th>0</th>\n",
       "      <td>Google</td>\n",
       "      <td>27.82</td>\n",
       "      <td>87</td>\n",
       "      <td>12</td>\n",
       "      <td>Larry page</td>\n",
       "    </tr>\n",
       "    <tr>\n",
       "      <th>1</th>\n",
       "      <td>WMT</td>\n",
       "      <td>34.1</td>\n",
       "      <td>-122</td>\n",
       "      <td>23</td>\n",
       "      <td>N.A</td>\n",
       "    </tr>\n",
       "    <tr>\n",
       "      <th>2</th>\n",
       "      <td>MSFT</td>\n",
       "      <td>12.56</td>\n",
       "      <td>343</td>\n",
       "      <td>64</td>\n",
       "      <td>Bill gates</td>\n",
       "    </tr>\n",
       "    <tr>\n",
       "      <th>3</th>\n",
       "      <td>RIL</td>\n",
       "      <td>32.1</td>\n",
       "      <td>22</td>\n",
       "      <td>1023</td>\n",
       "      <td>Mukesh ambani</td>\n",
       "    </tr>\n",
       "    <tr>\n",
       "      <th>4</th>\n",
       "      <td>Tata</td>\n",
       "      <td>not available</td>\n",
       "      <td>190</td>\n",
       "      <td>N.A</td>\n",
       "      <td>Ratan tata</td>\n",
       "    </tr>\n",
       "  </tbody>\n",
       "</table>\n",
       "</div>"
      ],
      "text/plain": [
       "  tickers            eps  revenue price         people\n",
       "0  Google          27.82       87    12     Larry page\n",
       "1     WMT           34.1     -122    23            N.A\n",
       "2    MSFT          12.56      343    64     Bill gates\n",
       "3     RIL           32.1       22  1023  Mukesh ambani\n",
       "4    Tata  not available      190   N.A     Ratan tata"
      ]
     },
     "execution_count": 3,
     "metadata": {},
     "output_type": "execute_result"
    }
   ],
   "source": [
    "import pandas as pd\n",
    "\n",
    "df = pd.read_csv('panda3.csv')\n",
    "\n",
    "df"
   ]
  },
  {
   "cell_type": "markdown",
   "id": "963186e7",
   "metadata": {},
   "source": [
    "--> It will skip the first row\n",
    "\n",
    "-->Both are work same\n",
    "\n",
    "df = pd.read_csv('panda3.csv', header=1)\n",
    "df = pd.read_csv('panda3.csv', skiprow=1)"
   ]
  },
  {
   "cell_type": "markdown",
   "id": "3d6d4774",
   "metadata": {},
   "source": [
    "--> It is use for set the header name\n",
    "--> If header is none then it takes 0,1,2,3...\n",
    "\n",
    "df = pd.read_csv('panda3.csv', header=None, names=[\"ticker\",\"eps\",\"revenue\",\"price\",\"people\")"
   ]
  },
  {
   "cell_type": "code",
   "execution_count": 4,
   "id": "77d1c9f2",
   "metadata": {},
   "outputs": [
    {
     "data": {
      "text/html": [
       "<div>\n",
       "<style scoped>\n",
       "    .dataframe tbody tr th:only-of-type {\n",
       "        vertical-align: middle;\n",
       "    }\n",
       "\n",
       "    .dataframe tbody tr th {\n",
       "        vertical-align: top;\n",
       "    }\n",
       "\n",
       "    .dataframe thead th {\n",
       "        text-align: right;\n",
       "    }\n",
       "</style>\n",
       "<table border=\"1\" class=\"dataframe\">\n",
       "  <thead>\n",
       "    <tr style=\"text-align: right;\">\n",
       "      <th></th>\n",
       "      <th>tickers</th>\n",
       "      <th>eps</th>\n",
       "      <th>revenue</th>\n",
       "      <th>price</th>\n",
       "      <th>people</th>\n",
       "    </tr>\n",
       "  </thead>\n",
       "  <tbody>\n",
       "    <tr>\n",
       "      <th>0</th>\n",
       "      <td>Google</td>\n",
       "      <td>27.82</td>\n",
       "      <td>87</td>\n",
       "      <td>12.0</td>\n",
       "      <td>Larry page</td>\n",
       "    </tr>\n",
       "    <tr>\n",
       "      <th>1</th>\n",
       "      <td>WMT</td>\n",
       "      <td>34.10</td>\n",
       "      <td>-122</td>\n",
       "      <td>23.0</td>\n",
       "      <td>NaN</td>\n",
       "    </tr>\n",
       "    <tr>\n",
       "      <th>2</th>\n",
       "      <td>MSFT</td>\n",
       "      <td>12.56</td>\n",
       "      <td>343</td>\n",
       "      <td>64.0</td>\n",
       "      <td>Bill gates</td>\n",
       "    </tr>\n",
       "    <tr>\n",
       "      <th>3</th>\n",
       "      <td>RIL</td>\n",
       "      <td>32.10</td>\n",
       "      <td>22</td>\n",
       "      <td>1023.0</td>\n",
       "      <td>Mukesh ambani</td>\n",
       "    </tr>\n",
       "    <tr>\n",
       "      <th>4</th>\n",
       "      <td>Tata</td>\n",
       "      <td>NaN</td>\n",
       "      <td>190</td>\n",
       "      <td>NaN</td>\n",
       "      <td>Ratan tata</td>\n",
       "    </tr>\n",
       "  </tbody>\n",
       "</table>\n",
       "</div>"
      ],
      "text/plain": [
       "  tickers    eps  revenue   price         people\n",
       "0  Google  27.82       87    12.0     Larry page\n",
       "1     WMT  34.10     -122    23.0            NaN\n",
       "2    MSFT  12.56      343    64.0     Bill gates\n",
       "3     RIL  32.10       22  1023.0  Mukesh ambani\n",
       "4    Tata    NaN      190     NaN     Ratan tata"
      ]
     },
     "execution_count": 4,
     "metadata": {},
     "output_type": "execute_result"
    }
   ],
   "source": [
    "# it replace not available to NaN\n",
    "df = pd.read_csv('panda3.csv', na_values=[\"not available\", \"N.A\"])\n",
    "df"
   ]
  },
  {
   "cell_type": "code",
   "execution_count": 6,
   "id": "9faaeaac",
   "metadata": {},
   "outputs": [],
   "source": [
    "# To make another csv file\n",
    "# index as a false it removes the first column\n",
    "df.to_csv('new.csv', index=False)"
   ]
  },
  {
   "cell_type": "code",
   "execution_count": 8,
   "id": "d35d9653",
   "metadata": {},
   "outputs": [],
   "source": [
    "# To get only particular columns in new file\n",
    "# To remove the header from the file\n",
    "df.to_csv('new.csv',columns=['eps'], index=False, header=False)"
   ]
  },
  {
   "cell_type": "code",
   "execution_count": null,
   "id": "a9bfb797",
   "metadata": {},
   "outputs": [],
   "source": []
  }
 ],
 "metadata": {
  "kernelspec": {
   "display_name": "Python 3 (ipykernel)",
   "language": "python",
   "name": "python3"
  },
  "language_info": {
   "codemirror_mode": {
    "name": "ipython",
    "version": 3
   },
   "file_extension": ".py",
   "mimetype": "text/x-python",
   "name": "python",
   "nbconvert_exporter": "python",
   "pygments_lexer": "ipython3",
   "version": "3.9.13"
  }
 },
 "nbformat": 4,
 "nbformat_minor": 5
}
