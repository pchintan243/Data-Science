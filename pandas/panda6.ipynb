{
 "cells": [
  {
   "cell_type": "code",
   "execution_count": 1,
   "id": "a29e0aa5",
   "metadata": {},
   "outputs": [
    {
     "data": {
      "text/html": [
       "<div>\n",
       "<style scoped>\n",
       "    .dataframe tbody tr th:only-of-type {\n",
       "        vertical-align: middle;\n",
       "    }\n",
       "\n",
       "    .dataframe tbody tr th {\n",
       "        vertical-align: top;\n",
       "    }\n",
       "\n",
       "    .dataframe thead th {\n",
       "        text-align: right;\n",
       "    }\n",
       "</style>\n",
       "<table border=\"1\" class=\"dataframe\">\n",
       "  <thead>\n",
       "    <tr style=\"text-align: right;\">\n",
       "      <th></th>\n",
       "      <th>day</th>\n",
       "      <th>city</th>\n",
       "      <th>temperature</th>\n",
       "      <th>windspeed</th>\n",
       "      <th>event</th>\n",
       "    </tr>\n",
       "  </thead>\n",
       "  <tbody>\n",
       "    <tr>\n",
       "      <th>0</th>\n",
       "      <td>01-01-2017</td>\n",
       "      <td>new york</td>\n",
       "      <td>32</td>\n",
       "      <td>6</td>\n",
       "      <td>Rain</td>\n",
       "    </tr>\n",
       "    <tr>\n",
       "      <th>1</th>\n",
       "      <td>01-02-2017</td>\n",
       "      <td>new york</td>\n",
       "      <td>23</td>\n",
       "      <td>3</td>\n",
       "      <td>Sunny</td>\n",
       "    </tr>\n",
       "    <tr>\n",
       "      <th>2</th>\n",
       "      <td>01-03-2017</td>\n",
       "      <td>new york</td>\n",
       "      <td>12</td>\n",
       "      <td>3</td>\n",
       "      <td>Cloudy</td>\n",
       "    </tr>\n",
       "    <tr>\n",
       "      <th>3</th>\n",
       "      <td>01-04-2017</td>\n",
       "      <td>new york</td>\n",
       "      <td>32</td>\n",
       "      <td>7</td>\n",
       "      <td>Sunny</td>\n",
       "    </tr>\n",
       "    <tr>\n",
       "      <th>4</th>\n",
       "      <td>01-05-2017</td>\n",
       "      <td>mumbai</td>\n",
       "      <td>55</td>\n",
       "      <td>3</td>\n",
       "      <td>Fog</td>\n",
       "    </tr>\n",
       "    <tr>\n",
       "      <th>5</th>\n",
       "      <td>01-02-2017</td>\n",
       "      <td>mumbai</td>\n",
       "      <td>45</td>\n",
       "      <td>2</td>\n",
       "      <td>Cloudy</td>\n",
       "    </tr>\n",
       "    <tr>\n",
       "      <th>6</th>\n",
       "      <td>01-03-2017</td>\n",
       "      <td>mumbai</td>\n",
       "      <td>34</td>\n",
       "      <td>5</td>\n",
       "      <td>Fog</td>\n",
       "    </tr>\n",
       "    <tr>\n",
       "      <th>7</th>\n",
       "      <td>01-04-2017</td>\n",
       "      <td>mumbai</td>\n",
       "      <td>12</td>\n",
       "      <td>7</td>\n",
       "      <td>Fog</td>\n",
       "    </tr>\n",
       "    <tr>\n",
       "      <th>8</th>\n",
       "      <td>01-01-2017</td>\n",
       "      <td>paris</td>\n",
       "      <td>87</td>\n",
       "      <td>6</td>\n",
       "      <td>Sunny</td>\n",
       "    </tr>\n",
       "    <tr>\n",
       "      <th>9</th>\n",
       "      <td>01-03-2017</td>\n",
       "      <td>paris</td>\n",
       "      <td>32</td>\n",
       "      <td>3</td>\n",
       "      <td>Rain</td>\n",
       "    </tr>\n",
       "    <tr>\n",
       "      <th>10</th>\n",
       "      <td>01-01-2017</td>\n",
       "      <td>paris</td>\n",
       "      <td>22</td>\n",
       "      <td>4</td>\n",
       "      <td>Cloudy</td>\n",
       "    </tr>\n",
       "    <tr>\n",
       "      <th>11</th>\n",
       "      <td>01-08-2017</td>\n",
       "      <td>paris</td>\n",
       "      <td>78</td>\n",
       "      <td>5</td>\n",
       "      <td>Fog</td>\n",
       "    </tr>\n",
       "  </tbody>\n",
       "</table>\n",
       "</div>"
      ],
      "text/plain": [
       "           day      city  temperature  windspeed   event\n",
       "0   01-01-2017  new york           32          6    Rain\n",
       "1   01-02-2017  new york           23          3   Sunny\n",
       "2   01-03-2017  new york           12          3  Cloudy\n",
       "3   01-04-2017  new york           32          7   Sunny\n",
       "4   01-05-2017    mumbai           55          3     Fog\n",
       "5   01-02-2017    mumbai           45          2  Cloudy\n",
       "6   01-03-2017    mumbai           34          5     Fog\n",
       "7   01-04-2017    mumbai           12          7     Fog\n",
       "8   01-01-2017     paris           87          6   Sunny\n",
       "9   01-03-2017     paris           32          3    Rain\n",
       "10  01-01-2017     paris           22          4  Cloudy\n",
       "11  01-08-2017     paris           78          5     Fog"
      ]
     },
     "execution_count": 1,
     "metadata": {},
     "output_type": "execute_result"
    }
   ],
   "source": [
    "import numpy as np\n",
    "import pandas as pd\n",
    "\n",
    "df = pd.read_csv(\"weather_city.csv\")\n",
    "\n",
    "df"
   ]
  },
  {
   "cell_type": "code",
   "execution_count": 2,
   "id": "fcf2f94b",
   "metadata": {},
   "outputs": [
    {
     "data": {
      "text/plain": [
       "<pandas.core.groupby.generic.DataFrameGroupBy object at 0x000001A3DE893430>"
      ]
     },
     "execution_count": 2,
     "metadata": {},
     "output_type": "execute_result"
    }
   ],
   "source": [
    "g = df.groupby('city')\n",
    "g"
   ]
  },
  {
   "cell_type": "markdown",
   "id": "a63301fc",
   "metadata": {},
   "source": [
    "# Groupby city"
   ]
  },
  {
   "cell_type": "code",
   "execution_count": 3,
   "id": "0211b3a3",
   "metadata": {},
   "outputs": [
    {
     "name": "stdout",
     "output_type": "stream",
     "text": [
      "mumbai\n",
      "          day    city  temperature  windspeed   event\n",
      "4  01-05-2017  mumbai           55          3     Fog\n",
      "5  01-02-2017  mumbai           45          2  Cloudy\n",
      "6  01-03-2017  mumbai           34          5     Fog\n",
      "7  01-04-2017  mumbai           12          7     Fog\n",
      "new york\n",
      "          day      city  temperature  windspeed   event\n",
      "0  01-01-2017  new york           32          6    Rain\n",
      "1  01-02-2017  new york           23          3   Sunny\n",
      "2  01-03-2017  new york           12          3  Cloudy\n",
      "3  01-04-2017  new york           32          7   Sunny\n",
      "paris\n",
      "           day   city  temperature  windspeed   event\n",
      "8   01-01-2017  paris           87          6   Sunny\n",
      "9   01-03-2017  paris           32          3    Rain\n",
      "10  01-01-2017  paris           22          4  Cloudy\n",
      "11  01-08-2017  paris           78          5     Fog\n"
     ]
    }
   ],
   "source": [
    "for city, city_df in g:\n",
    "    print(city)\n",
    "    print(city_df)"
   ]
  },
  {
   "cell_type": "code",
   "execution_count": 4,
   "id": "cc0edc97",
   "metadata": {
    "scrolled": true
   },
   "outputs": [
    {
     "data": {
      "text/html": [
       "<div>\n",
       "<style scoped>\n",
       "    .dataframe tbody tr th:only-of-type {\n",
       "        vertical-align: middle;\n",
       "    }\n",
       "\n",
       "    .dataframe tbody tr th {\n",
       "        vertical-align: top;\n",
       "    }\n",
       "\n",
       "    .dataframe thead th {\n",
       "        text-align: right;\n",
       "    }\n",
       "</style>\n",
       "<table border=\"1\" class=\"dataframe\">\n",
       "  <thead>\n",
       "    <tr style=\"text-align: right;\">\n",
       "      <th></th>\n",
       "      <th>day</th>\n",
       "      <th>city</th>\n",
       "      <th>temperature</th>\n",
       "      <th>windspeed</th>\n",
       "      <th>event</th>\n",
       "    </tr>\n",
       "  </thead>\n",
       "  <tbody>\n",
       "    <tr>\n",
       "      <th>0</th>\n",
       "      <td>01-01-2017</td>\n",
       "      <td>new york</td>\n",
       "      <td>32</td>\n",
       "      <td>6</td>\n",
       "      <td>Rain</td>\n",
       "    </tr>\n",
       "    <tr>\n",
       "      <th>1</th>\n",
       "      <td>01-02-2017</td>\n",
       "      <td>new york</td>\n",
       "      <td>23</td>\n",
       "      <td>3</td>\n",
       "      <td>Sunny</td>\n",
       "    </tr>\n",
       "    <tr>\n",
       "      <th>2</th>\n",
       "      <td>01-03-2017</td>\n",
       "      <td>new york</td>\n",
       "      <td>12</td>\n",
       "      <td>3</td>\n",
       "      <td>Cloudy</td>\n",
       "    </tr>\n",
       "    <tr>\n",
       "      <th>3</th>\n",
       "      <td>01-04-2017</td>\n",
       "      <td>new york</td>\n",
       "      <td>32</td>\n",
       "      <td>7</td>\n",
       "      <td>Sunny</td>\n",
       "    </tr>\n",
       "  </tbody>\n",
       "</table>\n",
       "</div>"
      ],
      "text/plain": [
       "          day      city  temperature  windspeed   event\n",
       "0  01-01-2017  new york           32          6    Rain\n",
       "1  01-02-2017  new york           23          3   Sunny\n",
       "2  01-03-2017  new york           12          3  Cloudy\n",
       "3  01-04-2017  new york           32          7   Sunny"
      ]
     },
     "execution_count": 4,
     "metadata": {},
     "output_type": "execute_result"
    }
   ],
   "source": [
    "g.get_group('new york')"
   ]
  },
  {
   "cell_type": "code",
   "execution_count": 6,
   "id": "b48b6114",
   "metadata": {},
   "outputs": [
    {
     "data": {
      "text/html": [
       "<div>\n",
       "<style scoped>\n",
       "    .dataframe tbody tr th:only-of-type {\n",
       "        vertical-align: middle;\n",
       "    }\n",
       "\n",
       "    .dataframe tbody tr th {\n",
       "        vertical-align: top;\n",
       "    }\n",
       "\n",
       "    .dataframe thead tr th {\n",
       "        text-align: left;\n",
       "    }\n",
       "\n",
       "    .dataframe thead tr:last-of-type th {\n",
       "        text-align: right;\n",
       "    }\n",
       "</style>\n",
       "<table border=\"1\" class=\"dataframe\">\n",
       "  <thead>\n",
       "    <tr>\n",
       "      <th></th>\n",
       "      <th colspan=\"8\" halign=\"left\">temperature</th>\n",
       "      <th colspan=\"8\" halign=\"left\">windspeed</th>\n",
       "    </tr>\n",
       "    <tr>\n",
       "      <th></th>\n",
       "      <th>count</th>\n",
       "      <th>mean</th>\n",
       "      <th>std</th>\n",
       "      <th>min</th>\n",
       "      <th>25%</th>\n",
       "      <th>50%</th>\n",
       "      <th>75%</th>\n",
       "      <th>max</th>\n",
       "      <th>count</th>\n",
       "      <th>mean</th>\n",
       "      <th>std</th>\n",
       "      <th>min</th>\n",
       "      <th>25%</th>\n",
       "      <th>50%</th>\n",
       "      <th>75%</th>\n",
       "      <th>max</th>\n",
       "    </tr>\n",
       "    <tr>\n",
       "      <th>city</th>\n",
       "      <th></th>\n",
       "      <th></th>\n",
       "      <th></th>\n",
       "      <th></th>\n",
       "      <th></th>\n",
       "      <th></th>\n",
       "      <th></th>\n",
       "      <th></th>\n",
       "      <th></th>\n",
       "      <th></th>\n",
       "      <th></th>\n",
       "      <th></th>\n",
       "      <th></th>\n",
       "      <th></th>\n",
       "      <th></th>\n",
       "      <th></th>\n",
       "    </tr>\n",
       "  </thead>\n",
       "  <tbody>\n",
       "    <tr>\n",
       "      <th>mumbai</th>\n",
       "      <td>4.0</td>\n",
       "      <td>36.50</td>\n",
       "      <td>18.448125</td>\n",
       "      <td>12.0</td>\n",
       "      <td>28.50</td>\n",
       "      <td>39.5</td>\n",
       "      <td>47.50</td>\n",
       "      <td>55.0</td>\n",
       "      <td>4.0</td>\n",
       "      <td>4.25</td>\n",
       "      <td>2.217356</td>\n",
       "      <td>2.0</td>\n",
       "      <td>2.75</td>\n",
       "      <td>4.0</td>\n",
       "      <td>5.50</td>\n",
       "      <td>7.0</td>\n",
       "    </tr>\n",
       "    <tr>\n",
       "      <th>new york</th>\n",
       "      <td>4.0</td>\n",
       "      <td>24.75</td>\n",
       "      <td>9.500000</td>\n",
       "      <td>12.0</td>\n",
       "      <td>20.25</td>\n",
       "      <td>27.5</td>\n",
       "      <td>32.00</td>\n",
       "      <td>32.0</td>\n",
       "      <td>4.0</td>\n",
       "      <td>4.75</td>\n",
       "      <td>2.061553</td>\n",
       "      <td>3.0</td>\n",
       "      <td>3.00</td>\n",
       "      <td>4.5</td>\n",
       "      <td>6.25</td>\n",
       "      <td>7.0</td>\n",
       "    </tr>\n",
       "    <tr>\n",
       "      <th>paris</th>\n",
       "      <td>4.0</td>\n",
       "      <td>54.75</td>\n",
       "      <td>32.510255</td>\n",
       "      <td>22.0</td>\n",
       "      <td>29.50</td>\n",
       "      <td>55.0</td>\n",
       "      <td>80.25</td>\n",
       "      <td>87.0</td>\n",
       "      <td>4.0</td>\n",
       "      <td>4.50</td>\n",
       "      <td>1.290994</td>\n",
       "      <td>3.0</td>\n",
       "      <td>3.75</td>\n",
       "      <td>4.5</td>\n",
       "      <td>5.25</td>\n",
       "      <td>6.0</td>\n",
       "    </tr>\n",
       "  </tbody>\n",
       "</table>\n",
       "</div>"
      ],
      "text/plain": [
       "         temperature                                                    \\\n",
       "               count   mean        std   min    25%   50%    75%   max   \n",
       "city                                                                     \n",
       "mumbai           4.0  36.50  18.448125  12.0  28.50  39.5  47.50  55.0   \n",
       "new york         4.0  24.75   9.500000  12.0  20.25  27.5  32.00  32.0   \n",
       "paris            4.0  54.75  32.510255  22.0  29.50  55.0  80.25  87.0   \n",
       "\n",
       "         windspeed                                             \n",
       "             count  mean       std  min   25%  50%   75%  max  \n",
       "city                                                           \n",
       "mumbai         4.0  4.25  2.217356  2.0  2.75  4.0  5.50  7.0  \n",
       "new york       4.0  4.75  2.061553  3.0  3.00  4.5  6.25  7.0  \n",
       "paris          4.0  4.50  1.290994  3.0  3.75  4.5  5.25  6.0  "
      ]
     },
     "execution_count": 6,
     "metadata": {},
     "output_type": "execute_result"
    }
   ],
   "source": [
    "g.describe()"
   ]
  },
  {
   "cell_type": "code",
   "execution_count": 8,
   "id": "7637c26f",
   "metadata": {},
   "outputs": [
    {
     "data": {
      "text/plain": [
       "city\n",
       "mumbai      AxesSubplot(0.125,0.11;0.775x0.77)\n",
       "new york    AxesSubplot(0.125,0.11;0.775x0.77)\n",
       "paris       AxesSubplot(0.125,0.11;0.775x0.77)\n",
       "dtype: object"
      ]
     },
     "execution_count": 8,
     "metadata": {},
     "output_type": "execute_result"
    },
    {
     "data": {
      "image/png": "[encoded data removed]",
      "text/plain": [
       "<Figure size 640x480 with 1 Axes>"
      ]
     },
     "metadata": {},
     "output_type": "display_data"
    },
    {
     "data": {
      "image/png": "[encoded data removed]",
      "text/plain": [
       "<Figure size 640x480 with 1 Axes>"
      ]
     },
     "metadata": {},
     "output_type": "display_data"
    },
    {
     "data": {
      "image/png": "[encoded data removed]",
      "text/plain": [
       "<Figure size 640x480 with 1 Axes>"
      ]
     },
     "metadata": {},
     "output_type": "display_data"
    }
   ],
   "source": [
    "%matplotlib inline\n",
    "g.plot()"
   ]
  }
 ],
 "metadata": {
  "kernelspec": {
   "display_name": "Python 3 (ipykernel)",
   "language": "python",
   "name": "python3"
  },
  "language_info": {
   "codemirror_mode": {
    "name": "ipython",
    "version": 3
   },
   "file_extension": ".py",
   "mimetype": "text/x-python",
   "name": "python",
   "nbconvert_exporter": "python",
   "pygments_lexer": "ipython3",
   "version": "3.9.13"
  }
 },
 "nbformat": 4,
 "nbformat_minor": 5
}
